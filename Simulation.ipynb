{
 "cells": [
  {
   "cell_type": "code",
   "execution_count": 2,
   "metadata": {},
   "outputs": [],
   "source": [
    "from tkinter import *\n",
    "from tkinter import filedialog\n",
    "from tkinter.ttk import *\n",
    "from tkinter.messagebox import *\n",
    "import os"
   ]
  },
  {
   "cell_type": "code",
   "execution_count": 3,
   "metadata": {},
   "outputs": [],
   "source": [
    "def about():\n",
    "    showinfo(title='使用说明',message='文件路径中请勿带空格')"
   ]
  },
  {
   "cell_type": "code",
   "execution_count": 4,
   "metadata": {},
   "outputs": [],
   "source": [
    "def file_encode():\n",
    "    Label(root, text=empty, foreground=\"Black\", font=('黑体', 12)).place(x=100, y=0)\n",
    "    file_path = filedialog.askopenfilename()\n",
    "    global para8\n",
    "    para8 = file_path\n",
    "    Label(root, text=file_path, foreground=\"Black\", font=('黑体', 12)).place(x=100, y=0)"
   ]
  },
  {
   "cell_type": "code",
   "execution_count": 5,
   "metadata": {},
   "outputs": [],
   "source": [
    "def file_decode():\n",
    "    Label(root, text=empty, foreground=\"Black\", font=('黑体', 12)).place(x=100, y=250)\n",
    "    file_path = filedialog.askopenfilename()\n",
    "    global para9\n",
    "    para9 = file_path\n",
    "    Label(root, text=file_path, foreground=\"Black\", font=('黑体', 12)).place(x=100, y=250)"
   ]
  },
  {
   "cell_type": "code",
   "execution_count": 6,
   "metadata": {},
   "outputs": [],
   "source": [
    "def encode():\n",
    "    global para8\n",
    "    if(para2.get()!=''):\n",
    "        pa2='-s '+para2.get()\n",
    "    else:\n",
    "        pa2=''\n",
    "    if (para3.get() != ''):\n",
    "        pa3 = '-r ' + para3.get()\n",
    "    else:\n",
    "        pa3 = ''\n",
    "    if (para4.get() != ''):\n",
    "        pa4 = '-b ' + para4.get()\n",
    "    else:\n",
    "        pa4 = ''\n",
    "    if (para5.get() != ''):\n",
    "        pa5 = '-g ' + para5.get()\n",
    "    else:\n",
    "        pa5 = ''\n",
    "    if (para6.get() != ''):\n",
    "        pa6 = '-bf ' + para6.get()\n",
    "    else:\n",
    "        pa6 = ''\n",
    "    cmd = 'ffmpeg -s %s -i %s %s %s %s %s %s -vcodec h264 %s.mp4' % (para1.get(), para8, pa2,pa3,pa4,pa5,pa6,para7.get())\n",
    "    while True:\n",
    "        try:\n",
    "            os.popen(cmd)\n",
    "            showinfo(message='编码完成')\n",
    "            break\n",
    "        except KeyboardInterrupt:\n",
    "            showinfo(message='发生错误')"
   ]
  },
  {
   "cell_type": "code",
   "execution_count": 7,
   "metadata": {},
   "outputs": [],
   "source": [
    "def decode():\n",
    "    global para9\n",
    "    cmd = 'ffmpeg -i %s %s.yuv' % (para9, para10.get())\n",
    "    while True:\n",
    "        try:\n",
    "            os.popen(cmd)\n",
    "            showinfo(message='解码完成')\n",
    "            break\n",
    "        except KeyboardInterrupt:\n",
    "            showinfo(message='发生错误')"
   ]
  },
  {
   "cell_type": "code",
   "execution_count": 13,
   "metadata": {},
   "outputs": [],
   "source": [
    "def psnr():\n",
    "    file_path = filedialog.askopenfilenames()\n",
    "    a='lab.txt'\n",
    "    Label(root, text=file_path, foreground=\"Black\", font=('黑体', 12)).place(x=230, y=350)\n",
    "    cmd = 'psnr %s 420 %s %s >%s' % (para11.get(),file_path[0],file_path[1],a)\n",
    "    p=os.popen(cmd)\n",
    "    y = []\n",
    "    infile = open(file='lab.txt')\n",
    "    for line in infile:\n",
    "        trainingSet = line.split('\\n')\n",
    "        y.append(float(trainingSet[0]))\n",
    "    length = len(y)\n",
    "    sum=0\n",
    "    for i in range(length):\n",
    "        sum+=y[i-1]\n",
    "    sum=float(sum/length)\n",
    "    print(sum)\n",
    "    Label(root, text='psnr平均值:', foreground=\"Blue\", font=('黑体', 12)).place(x=200, y=380)\n",
    "    Label(root, text=sum, foreground=\"Black\", font=('黑体', 12)).place(x=300, y=380)"
   ]
  },
  {
   "cell_type": "code",
   "execution_count": 20,
   "metadata": {},
   "outputs": [],
   "source": [
    "root = Tk()\n",
    "root.title('多媒体通信第四次作业实验')\n",
    "root.geometry('700x500')\n",
    "menubar = Menu(root)"
   ]
  },
  {
   "cell_type": "code",
   "execution_count": 21,
   "metadata": {},
   "outputs": [],
   "source": [
    "helpmenu = Menu(menubar,tearoff=0)\n",
    "helpmenu.add_command(label=\"关于\", foreground='Black',command=about)\n",
    "menubar.add_cascade(label=\"帮助\", menu=helpmenu)"
   ]
  },
  {
   "cell_type": "code",
   "execution_count": 22,
   "metadata": {},
   "outputs": [],
   "source": [
    "root.config(menu=menubar)"
   ]
  },
  {
   "cell_type": "code",
   "execution_count": 23,
   "metadata": {},
   "outputs": [],
   "source": [
    "para1 = StringVar()  # 源文件分辨率\n",
    "para2 = StringVar()  # 目标文件的分辨率\n",
    "para3 = StringVar()  # 帧率\n",
    "para4 = StringVar()  # 码率\n",
    "para5 = StringVar()  # I帧间隔\n",
    "para6 = StringVar()  # B帧间隔\n",
    "para7 = StringVar()  # 要保存的文件名\n",
    "para8 = StringVar()  # 编码文件位置\n",
    "para9 = StringVar()  # 解码文件位置\n",
    "para10 = StringVar() # 要保存的文件名\n",
    "para11 = StringVar() # psnr比较文件的分辨率\n",
    "empty = '                                                                                    '  # 清除显示"
   ]
  },
  {
   "cell_type": "code",
   "execution_count": 24,
   "metadata": {},
   "outputs": [],
   "source": [
    "Button(root, text='选择.yuv文件', command=file_encode).place(x=10, y=0)\n",
    "Button(root, text='选择.mp4文件', command=file_decode).place(x=10, y=250)\n",
    "Button(root, text='编码', command=encode).place(x=350, y=180)\n",
    "Button(root, text='解码', command=decode).place(x=350, y=280)\n",
    "Button(root, text='PSNR分析', command=psnr).place(x=130, y=350)\n",
    "Label(root, text='源文件的分辨率:', foreground=\"Blue\", font=('黑体', 12)).place(x=0, y=27)\n",
    "Label(root, text='分辨率:', foreground=\"Black\", font=('黑体', 12)).place(x=0, y=50)\n",
    "Label(root, text='帧率:', foreground=\"Black\", font=('黑体', 12)).place(x=0, y=75)\n",
    "Label(root, text='码率  :', foreground=\"Black\", font=('黑体', 12)).place(x=0, y=100)\n",
    "Label(root, text='I帧间隔:', foreground=\"Black\", font=('黑体', 12)).place(x=0, y=125)\n",
    "Label(root, text='B帧数目:', foreground=\"Black\", font=('黑体', 12)).place(x=0, y=150)\n",
    "Label(root, text='要保存的文件名:', foreground=\"Blue\", font=('黑体', 12)).place(x=0, y=180)\n",
    "Label(root, text='要保存的文件名:', foreground=\"Blue\", font=('黑体', 12)).place(x=0, y=280)\n",
    "Label(root, text='(比较文件的分辨率)', foreground=\"Blue\", font=('黑体', 12)).place(x=0, y=380)\n",
    "Entry(root, textvariable=para7).place(x=150, y=180)\n",
    "Entry(root, textvariable=para10).place(x=150, y=280)\n",
    "Combobox(root, textvariable=para1, values=['qcif', 'cif']).place(x=150, y=25)\n",
    "Combobox(root, textvariable=para2, values=['qcif', 'cif']).place(x=150, y=50)\n",
    "Combobox(root, textvariable=para3, values=['10', '20', '25', '30', '40', '50','60','70']).place(x=150, y=75)\n",
    "Combobox(root, textvariable=para4, values=['50k', '100k', '200k', '300k', '500k','800k','1000k']).place(x=150, y=100)\n",
    "Combobox(root, textvariable=para5, values=['0', '10', '20', '30', '50', '80','100','200']).place(x=150, y=125)\n",
    "Combobox(root, textvariable=para6, values=['0', '20', '50', '100', '200', '250']).place(x=150, y=150)\n",
    "Combobox(root, width=12,textvariable=para11, values=['176 144', '352 288']).place(x=10, y=350)"
   ]
  },
  {
   "cell_type": "code",
   "execution_count": null,
   "metadata": {},
   "outputs": [
    {
     "name": "stderr",
     "output_type": "stream",
     "text": [
      "Exception in Tkinter callback\n",
      "Traceback (most recent call last):\n",
      "  File \"C:\\Users\\Zikei\\Anaconda3\\lib\\tkinter\\__init__.py\", line 1705, in __call__\n",
      "    return self.func(*args)\n",
      "  File \"<ipython-input-13-3442f963c76a>\", line 5, in psnr\n",
      "    cmd = 'psnr %s 420 %s %s >%s' % (para11.get(),file_path[0],file_path[1],a)\n",
      "IndexError: tuple index out of range\n",
      "Exception in Tkinter callback\n",
      "Traceback (most recent call last):\n",
      "  File \"C:\\Users\\Zikei\\Anaconda3\\lib\\tkinter\\__init__.py\", line 1705, in __call__\n",
      "    return self.func(*args)\n",
      "  File \"<ipython-input-13-3442f963c76a>\", line 5, in psnr\n",
      "    cmd = 'psnr %s 420 %s %s >%s' % (para11.get(),file_path[0],file_path[1],a)\n",
      "IndexError: tuple index out of range\n",
      "Exception in Tkinter callback\n",
      "Traceback (most recent call last):\n",
      "  File \"C:\\Users\\Zikei\\Anaconda3\\lib\\tkinter\\__init__.py\", line 1705, in __call__\n",
      "    return self.func(*args)\n",
      "  File \"<ipython-input-13-3442f963c76a>\", line 5, in psnr\n",
      "    cmd = 'psnr %s 420 %s %s >%s' % (para11.get(),file_path[0],file_path[1],a)\n",
      "IndexError: tuple index out of range\n",
      "Exception in Tkinter callback\n",
      "Traceback (most recent call last):\n",
      "  File \"C:\\Users\\Zikei\\Anaconda3\\lib\\tkinter\\__init__.py\", line 1705, in __call__\n",
      "    return self.func(*args)\n",
      "  File \"<ipython-input-13-3442f963c76a>\", line 5, in psnr\n",
      "    cmd = 'psnr %s 420 %s %s >%s' % (para11.get(),file_path[0],file_path[1],a)\n",
      "IndexError: tuple index out of range\n",
      "Exception in Tkinter callback\n",
      "Traceback (most recent call last):\n",
      "  File \"C:\\Users\\Zikei\\Anaconda3\\lib\\tkinter\\__init__.py\", line 1705, in __call__\n",
      "    return self.func(*args)\n",
      "  File \"<ipython-input-13-3442f963c76a>\", line 5, in psnr\n",
      "    cmd = 'psnr %s 420 %s %s >%s' % (para11.get(),file_path[0],file_path[1],a)\n",
      "IndexError: tuple index out of range\n",
      "Exception in Tkinter callback\n",
      "Traceback (most recent call last):\n",
      "  File \"C:\\Users\\Zikei\\Anaconda3\\lib\\tkinter\\__init__.py\", line 1705, in __call__\n",
      "    return self.func(*args)\n",
      "  File \"<ipython-input-13-3442f963c76a>\", line 5, in psnr\n",
      "    cmd = 'psnr %s 420 %s %s >%s' % (para11.get(),file_path[0],file_path[1],a)\n",
      "IndexError: tuple index out of range\n",
      "Exception in Tkinter callback\n",
      "Traceback (most recent call last):\n",
      "  File \"C:\\Users\\Zikei\\Anaconda3\\lib\\tkinter\\__init__.py\", line 1705, in __call__\n",
      "    return self.func(*args)\n",
      "  File \"<ipython-input-13-3442f963c76a>\", line 5, in psnr\n",
      "    cmd = 'psnr %s 420 %s %s >%s' % (para11.get(),file_path[0],file_path[1],a)\n",
      "IndexError: tuple index out of range\n",
      "Exception in Tkinter callback\n",
      "Traceback (most recent call last):\n",
      "  File \"C:\\Users\\Zikei\\Anaconda3\\lib\\tkinter\\__init__.py\", line 1705, in __call__\n",
      "    return self.func(*args)\n",
      "  File \"<ipython-input-13-3442f963c76a>\", line 5, in psnr\n",
      "    cmd = 'psnr %s 420 %s %s >%s' % (para11.get(),file_path[0],file_path[1],a)\n",
      "IndexError: tuple index out of range\n",
      "Exception in Tkinter callback\n",
      "Traceback (most recent call last):\n",
      "  File \"C:\\Users\\Zikei\\Anaconda3\\lib\\tkinter\\__init__.py\", line 1705, in __call__\n",
      "    return self.func(*args)\n",
      "  File \"<ipython-input-13-3442f963c76a>\", line 5, in psnr\n",
      "    cmd = 'psnr %s 420 %s %s >%s' % (para11.get(),file_path[0],file_path[1],a)\n",
      "IndexError: tuple index out of range\n",
      "Exception in Tkinter callback\n",
      "Traceback (most recent call last):\n",
      "  File \"C:\\Users\\Zikei\\Anaconda3\\lib\\tkinter\\__init__.py\", line 1705, in __call__\n",
      "    return self.func(*args)\n",
      "  File \"<ipython-input-13-3442f963c76a>\", line 5, in psnr\n",
      "    cmd = 'psnr %s 420 %s %s >%s' % (para11.get(),file_path[0],file_path[1],a)\n",
      "IndexError: tuple index out of range\n",
      "Exception in Tkinter callback\n",
      "Traceback (most recent call last):\n",
      "  File \"C:\\Users\\Zikei\\Anaconda3\\lib\\tkinter\\__init__.py\", line 1705, in __call__\n",
      "    return self.func(*args)\n",
      "  File \"<ipython-input-13-3442f963c76a>\", line 5, in psnr\n",
      "    cmd = 'psnr %s 420 %s %s >%s' % (para11.get(),file_path[0],file_path[1],a)\n",
      "IndexError: tuple index out of range\n",
      "Exception in Tkinter callback\n",
      "Traceback (most recent call last):\n",
      "  File \"C:\\Users\\Zikei\\Anaconda3\\lib\\tkinter\\__init__.py\", line 1705, in __call__\n",
      "    return self.func(*args)\n",
      "  File \"<ipython-input-13-3442f963c76a>\", line 5, in psnr\n",
      "    cmd = 'psnr %s 420 %s %s >%s' % (para11.get(),file_path[0],file_path[1],a)\n",
      "IndexError: tuple index out of range\n",
      "Exception in Tkinter callback\n",
      "Traceback (most recent call last):\n",
      "  File \"C:\\Users\\Zikei\\Anaconda3\\lib\\tkinter\\__init__.py\", line 1705, in __call__\n",
      "    return self.func(*args)\n",
      "  File \"<ipython-input-13-3442f963c76a>\", line 8, in psnr\n",
      "    infile = open(file='lab.txt')\n",
      "FileNotFoundError: [Errno 2] No such file or directory: 'lab.txt'\n"
     ]
    },
    {
     "name": "stdout",
     "output_type": "stream",
     "text": [
      "5.6159\n"
     ]
    }
   ],
   "source": [
    "mainloop()"
   ]
  },
  {
   "cell_type": "code",
   "execution_count": null,
   "metadata": {},
   "outputs": [],
   "source": []
  }
 ],
 "metadata": {
  "kernelspec": {
   "display_name": "Python 3",
   "language": "python",
   "name": "python3"
  },
  "language_info": {
   "codemirror_mode": {
    "name": "ipython",
    "version": 3
   },
   "file_extension": ".py",
   "mimetype": "text/x-python",
   "name": "python",
   "nbconvert_exporter": "python",
   "pygments_lexer": "ipython3",
   "version": "3.7.1"
  }
 },
 "nbformat": 4,
 "nbformat_minor": 2
}
